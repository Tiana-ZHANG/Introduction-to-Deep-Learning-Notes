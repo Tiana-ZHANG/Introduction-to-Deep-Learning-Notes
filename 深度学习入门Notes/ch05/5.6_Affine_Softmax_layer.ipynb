{
 "cells": [
  {
   "cell_type": "markdown",
   "metadata": {},
   "source": [
    "# 5.6 Affine/Softmax层的实现"
   ]
  },
  {
   "cell_type": "markdown",
   "metadata": {},
   "source": [
    "## 5.6.2 批版本的Affine层"
   ]
  },
  {
   "cell_type": "markdown",
   "metadata": {},
   "source": [
    "正向传播时，偏置被加到X*W的各个数据上"
   ]
  },
  {
   "cell_type": "code",
   "execution_count": 2,
   "metadata": {},
   "outputs": [
    {
     "name": "stdout",
     "output_type": "stream",
     "text": [
      "[[ 0  0  0]\n",
      " [10 10 10]]\n",
      "[[ 1  2  3]\n",
      " [11 12 13]]\n"
     ]
    }
   ],
   "source": [
    "import numpy as np\n",
    "\n",
    "X_dot_W = np.array([[0, 0, 0], [10, 10, 10]])\n",
    "B = np.array([1, 2, 3])\n",
    "print(X_dot_W)\n",
    "print(X_dot_W + B)"
   ]
  },
  {
   "cell_type": "markdown",
   "metadata": {},
   "source": [
    "**Question**\n",
    "\n",
    "- 反向传播时，各个数据的反向传播的值需要汇总为偏置的元素\n",
    "\n",
    "Y = X * W + B\n",
    "\n",
    "(N * M) = (N * D) (D * M) + (1 * M)\n",
    "\n",
    "实际是\n",
    "\n",
    "Y = X * W + I * B\n",
    "\n",
    "(N * M) = (N * D) (D * M) + (N * 1) (1 * M)\n",
    "\n",
    "dB = I.T * Y\n",
    "\n",
    "(1 * M) = (1 * N) (N * M)\n",
    "\n",
    "- [如何理解反向传播？（知乎）](https://www.zhihu.com/question/27239198?rf=24827633)"
   ]
  },
  {
   "cell_type": "code",
   "execution_count": 3,
   "metadata": {},
   "outputs": [],
   "source": [
    "# # affine的实现\n",
    "# # common/layers.py中Affine为四维张量情形\n",
    "\n",
    "# class Affine:\n",
    "\n",
    "#     def __init__(self, W, b):\n",
    "#         self.W = W\n",
    "#         self.b = b\n",
    "#         self.x = None\n",
    "#         self.dW = None\n",
    "#         self.db = None\n",
    "    \n",
    "#     def forward(self, x):\n",
    "#         self.x = x\n",
    "#         out = np.dot(x, self.W) + self.b\n",
    "\n",
    "#         return out\n",
    "    \n",
    "#     # 只输出dx???\n",
    "#     def backward(self, dout):\n",
    "#         dx = np.dot(dout, self.W.T)\n",
    "#         self.dW = np.dot(self.x.T, dout)\n",
    "#         self.db = np.sum(dout, axis=0)\n",
    "\n",
    "#         return dx"
   ]
  },
  {
   "cell_type": "markdown",
   "metadata": {},
   "source": [
    "## 5.6.3 Softmax-with-Loss层"
   ]
  },
  {
   "cell_type": "code",
   "execution_count": null,
   "metadata": {},
   "outputs": [],
   "source": [
    "# 批处理版本\n",
    "import sys, os\n",
    "sys.path.append(os.pardir)\n",
    "from common.functions import *\n",
    "\n",
    "class SoftmaxWithLoss:\n",
    "\n",
    "    def __init__(self):\n",
    "        # 损失\n",
    "        self.loss = None\n",
    "        # softmax的输出\n",
    "        self.y = None\n",
    "        # 监督数据(one-hot vector)\n",
    "        self.t = None\n",
    "\n",
    "    def forward(self, x, t):\n",
    "        self.t = t\n",
    "        self.y = softmax(x)\n",
    "        self.loss = cross_entropy_error(self.y, self.t)\n",
    "\n",
    "        return self.loss\n",
    "    \n",
    "    def backward(self, dout=1):\n",
    "        batch_size = self.t.shape[0]\n",
    "        dx = (self.y - self.t) / batch_size\n",
    "        \n",
    "        return dx"
   ]
  }
 ],
 "metadata": {
  "interpreter": {
   "hash": "7bebbcdb67a87c960e72e49b9762de1591139e5dbbdfaa6c9d42133d04bebfbc"
  },
  "kernelspec": {
   "display_name": "Python 3.9.7 ('base')",
   "language": "python",
   "name": "python3"
  },
  "language_info": {
   "codemirror_mode": {
    "name": "ipython",
    "version": 3
   },
   "file_extension": ".py",
   "mimetype": "text/x-python",
   "name": "python",
   "nbconvert_exporter": "python",
   "pygments_lexer": "ipython3",
   "version": "3.9.7"
  },
  "orig_nbformat": 4
 },
 "nbformat": 4,
 "nbformat_minor": 2
}
