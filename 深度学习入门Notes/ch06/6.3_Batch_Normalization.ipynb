{
 "cells": [
  {
   "cell_type": "markdown",
   "metadata": {},
   "source": [
    "# 6.3 Batch Normalizatoin"
   ]
  },
  {
   "cell_type": "code",
   "execution_count": 1,
   "metadata": {},
   "outputs": [
    {
     "name": "stdout",
     "output_type": "stream",
     "text": [
      "============== 1/16 ==============\n",
      "epoch:0 | 0.105 - 0.106\n",
      "epoch:1 | 0.097 - 0.104\n"
     ]
    },
    {
     "name": "stderr",
     "output_type": "stream",
     "text": [
      "e:\\Desktop\\code\\ch06\\..\\common\\functions.py:34: RuntimeWarning: invalid value encountered in subtract\n",
      "  x = x - np.max(x, axis=0)\n"
     ]
    },
    {
     "name": "stdout",
     "output_type": "stream",
     "text": [
      "epoch:2 | 0.097 - 0.118\n",
      "epoch:3 | 0.097 - 0.142\n",
      "epoch:4 | 0.097 - 0.16\n",
      "epoch:5 | 0.097 - 0.187\n",
      "epoch:6 | 0.097 - 0.203\n",
      "epoch:7 | 0.097 - 0.214\n",
      "epoch:8 | 0.097 - 0.248\n",
      "epoch:9 | 0.097 - 0.258\n",
      "epoch:10 | 0.097 - 0.268\n",
      "epoch:11 | 0.097 - 0.276\n",
      "epoch:12 | 0.097 - 0.299\n",
      "epoch:13 | 0.097 - 0.322\n",
      "epoch:14 | 0.097 - 0.327\n",
      "epoch:15 | 0.097 - 0.353\n",
      "epoch:16 | 0.097 - 0.368\n",
      "epoch:17 | 0.097 - 0.373\n",
      "epoch:18 | 0.097 - 0.393\n"
     ]
    },
    {
     "name": "stderr",
     "output_type": "stream",
     "text": [
      "No handles with labels found to put in legend.\n"
     ]
    },
    {
     "name": "stdout",
     "output_type": "stream",
     "text": [
      "epoch:19 | 0.097 - 0.403\n",
      "============== 2/16 ==============\n",
      "epoch:0 | 0.099 - 0.092\n",
      "epoch:1 | 0.097 - 0.098\n"
     ]
    },
    {
     "name": "stderr",
     "output_type": "stream",
     "text": [
      "e:\\Desktop\\code\\ch06\\..\\common\\multi_layer_net_extend.py:101: RuntimeWarning: overflow encountered in square\n",
      "  weight_decay += 0.5 * self.weight_decay_lambda * np.sum(W**2)\n",
      "e:\\Desktop\\code\\ch06\\..\\common\\multi_layer_net_extend.py:101: RuntimeWarning: invalid value encountered in double_scalars\n",
      "  weight_decay += 0.5 * self.weight_decay_lambda * np.sum(W**2)\n"
     ]
    },
    {
     "name": "stdout",
     "output_type": "stream",
     "text": [
      "epoch:2 | 0.097 - 0.126\n",
      "epoch:3 | 0.097 - 0.162\n",
      "epoch:4 | 0.097 - 0.182\n",
      "epoch:5 | 0.097 - 0.196\n",
      "epoch:6 | 0.097 - 0.212\n",
      "epoch:7 | 0.097 - 0.23\n",
      "epoch:8 | 0.097 - 0.252\n",
      "epoch:9 | 0.097 - 0.276\n",
      "epoch:10 | 0.097 - 0.292\n",
      "epoch:11 | 0.097 - 0.313\n",
      "epoch:12 | 0.097 - 0.331\n",
      "epoch:13 | 0.097 - 0.357\n",
      "epoch:14 | 0.097 - 0.374\n",
      "epoch:15 | 0.097 - 0.389\n",
      "epoch:16 | 0.097 - 0.414\n",
      "epoch:17 | 0.097 - 0.42\n",
      "epoch:18 | 0.097 - 0.463\n"
     ]
    },
    {
     "name": "stderr",
     "output_type": "stream",
     "text": [
      "No handles with labels found to put in legend.\n"
     ]
    },
    {
     "name": "stdout",
     "output_type": "stream",
     "text": [
      "epoch:19 | 0.097 - 0.479\n",
      "============== 3/16 ==============\n",
      "epoch:0 | 0.092 - 0.085\n",
      "epoch:1 | 0.327 - 0.117\n",
      "epoch:2 | 0.457 - 0.196\n",
      "epoch:3 | 0.545 - 0.248\n",
      "epoch:4 | 0.624 - 0.286\n",
      "epoch:5 | 0.678 - 0.318\n",
      "epoch:6 | 0.707 - 0.358\n",
      "epoch:7 | 0.742 - 0.387\n",
      "epoch:8 | 0.776 - 0.426\n",
      "epoch:9 | 0.813 - 0.46\n",
      "epoch:10 | 0.835 - 0.481\n",
      "epoch:11 | 0.853 - 0.508\n",
      "epoch:12 | 0.883 - 0.521\n",
      "epoch:13 | 0.889 - 0.542\n",
      "epoch:14 | 0.907 - 0.564\n",
      "epoch:15 | 0.909 - 0.58\n",
      "epoch:16 | 0.926 - 0.594\n",
      "epoch:17 | 0.932 - 0.61\n"
     ]
    },
    {
     "name": "stderr",
     "output_type": "stream",
     "text": [
      "No handles with labels found to put in legend.\n"
     ]
    },
    {
     "name": "stdout",
     "output_type": "stream",
     "text": [
      "epoch:18 | 0.933 - 0.631\n",
      "epoch:19 | 0.944 - 0.651\n",
      "============== 4/16 ==============\n",
      "epoch:0 | 0.091 - 0.112\n",
      "epoch:1 | 0.255 - 0.131\n",
      "epoch:2 | 0.365 - 0.18\n",
      "epoch:3 | 0.459 - 0.254\n",
      "epoch:4 | 0.539 - 0.338\n",
      "epoch:5 | 0.587 - 0.406\n",
      "epoch:6 | 0.636 - 0.456\n",
      "epoch:7 | 0.67 - 0.512\n",
      "epoch:8 | 0.705 - 0.552\n",
      "epoch:9 | 0.745 - 0.588\n",
      "epoch:10 | 0.746 - 0.612\n",
      "epoch:11 | 0.783 - 0.648\n",
      "epoch:12 | 0.794 - 0.661\n",
      "epoch:13 | 0.804 - 0.687\n",
      "epoch:14 | 0.816 - 0.717\n",
      "epoch:15 | 0.826 - 0.728\n",
      "epoch:16 | 0.839 - 0.735\n",
      "epoch:17 | 0.861 - 0.756\n",
      "epoch:18 | 0.864 - 0.774\n"
     ]
    },
    {
     "name": "stderr",
     "output_type": "stream",
     "text": [
      "No handles with labels found to put in legend.\n"
     ]
    },
    {
     "name": "stdout",
     "output_type": "stream",
     "text": [
      "epoch:19 | 0.869 - 0.795\n",
      "============== 5/16 ==============\n",
      "epoch:0 | 0.048 - 0.103\n",
      "epoch:1 | 0.055 - 0.111\n",
      "epoch:2 | 0.071 - 0.268\n",
      "epoch:3 | 0.086 - 0.401\n",
      "epoch:4 | 0.099 - 0.504\n",
      "epoch:5 | 0.113 - 0.581\n",
      "epoch:6 | 0.118 - 0.629\n",
      "epoch:7 | 0.112 - 0.669\n",
      "epoch:8 | 0.115 - 0.702\n",
      "epoch:9 | 0.117 - 0.735\n",
      "epoch:10 | 0.116 - 0.755\n",
      "epoch:11 | 0.122 - 0.779\n",
      "epoch:12 | 0.124 - 0.787\n",
      "epoch:13 | 0.134 - 0.8\n",
      "epoch:14 | 0.124 - 0.814\n",
      "epoch:15 | 0.123 - 0.828\n",
      "epoch:16 | 0.13 - 0.835\n",
      "epoch:17 | 0.135 - 0.845\n"
     ]
    },
    {
     "name": "stderr",
     "output_type": "stream",
     "text": [
      "No handles with labels found to put in legend.\n"
     ]
    },
    {
     "name": "stdout",
     "output_type": "stream",
     "text": [
      "epoch:18 | 0.139 - 0.856\n",
      "epoch:19 | 0.14 - 0.867\n",
      "============== 6/16 ==============\n",
      "epoch:0 | 0.081 - 0.08\n",
      "epoch:1 | 0.123 - 0.155\n",
      "epoch:2 | 0.117 - 0.422\n",
      "epoch:3 | 0.116 - 0.618\n",
      "epoch:4 | 0.119 - 0.698\n",
      "epoch:5 | 0.116 - 0.752\n",
      "epoch:6 | 0.116 - 0.788\n",
      "epoch:7 | 0.121 - 0.817\n",
      "epoch:8 | 0.116 - 0.841\n",
      "epoch:9 | 0.116 - 0.859\n",
      "epoch:10 | 0.139 - 0.869\n",
      "epoch:11 | 0.117 - 0.878\n",
      "epoch:12 | 0.117 - 0.895\n",
      "epoch:13 | 0.123 - 0.91\n",
      "epoch:14 | 0.116 - 0.916\n",
      "epoch:15 | 0.116 - 0.919\n",
      "epoch:16 | 0.116 - 0.928\n",
      "epoch:17 | 0.116 - 0.939\n"
     ]
    },
    {
     "name": "stderr",
     "output_type": "stream",
     "text": [
      "No handles with labels found to put in legend.\n"
     ]
    },
    {
     "name": "stdout",
     "output_type": "stream",
     "text": [
      "epoch:18 | 0.116 - 0.945\n",
      "epoch:19 | 0.116 - 0.949\n",
      "============== 7/16 ==============\n",
      "epoch:0 | 0.1 - 0.104\n",
      "epoch:1 | 0.117 - 0.247\n",
      "epoch:2 | 0.117 - 0.555\n",
      "epoch:3 | 0.117 - 0.653\n",
      "epoch:4 | 0.117 - 0.7\n",
      "epoch:5 | 0.116 - 0.737\n",
      "epoch:6 | 0.116 - 0.792\n",
      "epoch:7 | 0.116 - 0.831\n",
      "epoch:8 | 0.116 - 0.856\n",
      "epoch:9 | 0.116 - 0.889\n",
      "epoch:10 | 0.116 - 0.91\n",
      "epoch:11 | 0.116 - 0.932\n",
      "epoch:12 | 0.117 - 0.951\n",
      "epoch:13 | 0.117 - 0.96\n",
      "epoch:14 | 0.117 - 0.966\n",
      "epoch:15 | 0.117 - 0.972\n",
      "epoch:16 | 0.117 - 0.977\n",
      "epoch:17 | 0.117 - 0.979\n"
     ]
    },
    {
     "name": "stderr",
     "output_type": "stream",
     "text": [
      "No handles with labels found to put in legend.\n"
     ]
    },
    {
     "name": "stdout",
     "output_type": "stream",
     "text": [
      "epoch:18 | 0.117 - 0.983\n",
      "epoch:19 | 0.117 - 0.988\n",
      "============== 8/16 ==============\n",
      "epoch:0 | 0.116 - 0.085\n",
      "epoch:1 | 0.116 - 0.342\n",
      "epoch:2 | 0.116 - 0.741\n",
      "epoch:3 | 0.116 - 0.792\n",
      "epoch:4 | 0.117 - 0.847\n",
      "epoch:5 | 0.117 - 0.877\n",
      "epoch:6 | 0.117 - 0.919\n",
      "epoch:7 | 0.117 - 0.95\n",
      "epoch:8 | 0.117 - 0.962\n",
      "epoch:9 | 0.117 - 0.977\n",
      "epoch:10 | 0.117 - 0.98\n",
      "epoch:11 | 0.117 - 0.986\n",
      "epoch:12 | 0.117 - 0.99\n",
      "epoch:13 | 0.117 - 0.993\n",
      "epoch:14 | 0.117 - 0.995\n",
      "epoch:15 | 0.117 - 0.997\n",
      "epoch:16 | 0.117 - 0.998\n",
      "epoch:17 | 0.117 - 0.998\n"
     ]
    },
    {
     "name": "stderr",
     "output_type": "stream",
     "text": [
      "No handles with labels found to put in legend.\n"
     ]
    },
    {
     "name": "stdout",
     "output_type": "stream",
     "text": [
      "epoch:18 | 0.117 - 0.999\n",
      "epoch:19 | 0.117 - 0.999\n",
      "============== 9/16 ==============\n",
      "epoch:0 | 0.116 - 0.126\n",
      "epoch:1 | 0.117 - 0.54\n",
      "epoch:2 | 0.117 - 0.758\n",
      "epoch:3 | 0.117 - 0.827\n",
      "epoch:4 | 0.117 - 0.873\n",
      "epoch:5 | 0.117 - 0.922\n",
      "epoch:6 | 0.117 - 0.95\n",
      "epoch:7 | 0.117 - 0.973\n",
      "epoch:8 | 0.117 - 0.986\n",
      "epoch:9 | 0.117 - 0.991\n",
      "epoch:10 | 0.117 - 0.995\n",
      "epoch:11 | 0.117 - 0.997\n",
      "epoch:12 | 0.117 - 0.998\n",
      "epoch:13 | 0.117 - 0.998\n",
      "epoch:14 | 0.117 - 0.998\n",
      "epoch:15 | 0.117 - 0.999\n",
      "epoch:16 | 0.117 - 0.999\n",
      "epoch:17 | 0.117 - 1.0\n"
     ]
    },
    {
     "name": "stderr",
     "output_type": "stream",
     "text": [
      "No handles with labels found to put in legend.\n"
     ]
    },
    {
     "name": "stdout",
     "output_type": "stream",
     "text": [
      "epoch:18 | 0.117 - 0.999\n",
      "epoch:19 | 0.117 - 1.0\n",
      "============== 10/16 ==============\n",
      "epoch:0 | 0.105 - 0.163\n",
      "epoch:1 | 0.097 - 0.51\n",
      "epoch:2 | 0.099 - 0.829\n",
      "epoch:3 | 0.117 - 0.901\n",
      "epoch:4 | 0.105 - 0.852\n",
      "epoch:5 | 0.117 - 0.953\n",
      "epoch:6 | 0.117 - 0.938\n",
      "epoch:7 | 0.117 - 0.964\n",
      "epoch:8 | 0.116 - 0.98\n",
      "epoch:9 | 0.116 - 0.98\n",
      "epoch:10 | 0.116 - 0.98\n",
      "epoch:11 | 0.117 - 0.998\n",
      "epoch:12 | 0.117 - 0.998\n",
      "epoch:13 | 0.117 - 0.999\n",
      "epoch:14 | 0.117 - 0.997\n",
      "epoch:15 | 0.117 - 0.997\n",
      "epoch:16 | 0.117 - 1.0\n",
      "epoch:17 | 0.117 - 1.0\n"
     ]
    },
    {
     "name": "stderr",
     "output_type": "stream",
     "text": [
      "No handles with labels found to put in legend.\n"
     ]
    },
    {
     "name": "stdout",
     "output_type": "stream",
     "text": [
      "epoch:18 | 0.117 - 1.0\n",
      "epoch:19 | 0.117 - 1.0\n",
      "============== 11/16 ==============\n",
      "epoch:0 | 0.105 - 0.185\n",
      "epoch:1 | 0.116 - 0.466\n",
      "epoch:2 | 0.116 - 0.629\n",
      "epoch:3 | 0.116 - 0.699\n",
      "epoch:4 | 0.116 - 0.718\n",
      "epoch:5 | 0.117 - 0.719\n",
      "epoch:6 | 0.117 - 0.796\n",
      "epoch:7 | 0.117 - 0.848\n",
      "epoch:8 | 0.117 - 0.882\n",
      "epoch:9 | 0.117 - 0.88\n",
      "epoch:10 | 0.117 - 0.954\n",
      "epoch:11 | 0.117 - 0.966\n",
      "epoch:12 | 0.117 - 0.974\n",
      "epoch:13 | 0.117 - 0.978\n",
      "epoch:14 | 0.117 - 0.983\n",
      "epoch:15 | 0.117 - 0.991\n",
      "epoch:16 | 0.117 - 0.987\n",
      "epoch:17 | 0.117 - 0.994\n"
     ]
    },
    {
     "name": "stderr",
     "output_type": "stream",
     "text": [
      "No handles with labels found to put in legend.\n"
     ]
    },
    {
     "name": "stdout",
     "output_type": "stream",
     "text": [
      "epoch:18 | 0.117 - 0.993\n",
      "epoch:19 | 0.117 - 0.995\n",
      "============== 12/16 ==============\n",
      "epoch:0 | 0.116 - 0.143\n",
      "epoch:1 | 0.117 - 0.367\n",
      "epoch:2 | 0.116 - 0.466\n",
      "epoch:3 | 0.116 - 0.608\n",
      "epoch:4 | 0.116 - 0.663\n",
      "epoch:5 | 0.116 - 0.753\n",
      "epoch:6 | 0.116 - 0.779\n",
      "epoch:7 | 0.116 - 0.794\n",
      "epoch:8 | 0.116 - 0.774\n",
      "epoch:9 | 0.116 - 0.778\n",
      "epoch:10 | 0.116 - 0.79\n",
      "epoch:11 | 0.116 - 0.796\n",
      "epoch:12 | 0.116 - 0.799\n",
      "epoch:13 | 0.116 - 0.8\n",
      "epoch:14 | 0.116 - 0.801\n",
      "epoch:15 | 0.116 - 0.803\n",
      "epoch:16 | 0.116 - 0.804\n",
      "epoch:17 | 0.116 - 0.886\n"
     ]
    },
    {
     "name": "stderr",
     "output_type": "stream",
     "text": [
      "No handles with labels found to put in legend.\n"
     ]
    },
    {
     "name": "stdout",
     "output_type": "stream",
     "text": [
      "epoch:18 | 0.116 - 0.893\n",
      "epoch:19 | 0.116 - 0.894\n",
      "============== 13/16 ==============\n",
      "epoch:0 | 0.117 - 0.195\n",
      "epoch:1 | 0.116 - 0.395\n",
      "epoch:2 | 0.116 - 0.553\n",
      "epoch:3 | 0.116 - 0.469\n",
      "epoch:4 | 0.116 - 0.608\n",
      "epoch:5 | 0.116 - 0.616\n",
      "epoch:6 | 0.117 - 0.659\n",
      "epoch:7 | 0.116 - 0.668\n",
      "epoch:8 | 0.116 - 0.657\n",
      "epoch:9 | 0.116 - 0.673\n",
      "epoch:10 | 0.116 - 0.7\n",
      "epoch:11 | 0.116 - 0.701\n",
      "epoch:12 | 0.116 - 0.714\n",
      "epoch:13 | 0.116 - 0.689\n",
      "epoch:14 | 0.116 - 0.699\n",
      "epoch:15 | 0.116 - 0.636\n",
      "epoch:16 | 0.116 - 0.618\n",
      "epoch:17 | 0.116 - 0.703\n",
      "epoch:18 | 0.116 - 0.703\n"
     ]
    },
    {
     "name": "stderr",
     "output_type": "stream",
     "text": [
      "No handles with labels found to put in legend.\n"
     ]
    },
    {
     "name": "stdout",
     "output_type": "stream",
     "text": [
      "epoch:19 | 0.116 - 0.769\n",
      "============== 14/16 ==============\n",
      "epoch:0 | 0.092 - 0.1\n",
      "epoch:1 | 0.117 - 0.499\n",
      "epoch:2 | 0.116 - 0.41\n",
      "epoch:3 | 0.116 - 0.561\n",
      "epoch:4 | 0.116 - 0.558\n",
      "epoch:5 | 0.116 - 0.586\n",
      "epoch:6 | 0.116 - 0.588\n",
      "epoch:7 | 0.116 - 0.606\n",
      "epoch:8 | 0.116 - 0.402\n",
      "epoch:9 | 0.116 - 0.638\n",
      "epoch:10 | 0.116 - 0.668\n",
      "epoch:11 | 0.116 - 0.692\n",
      "epoch:12 | 0.116 - 0.721\n",
      "epoch:13 | 0.116 - 0.701\n",
      "epoch:14 | 0.116 - 0.661\n",
      "epoch:15 | 0.116 - 0.763\n",
      "epoch:16 | 0.116 - 0.787\n",
      "epoch:17 | 0.116 - 0.799\n"
     ]
    },
    {
     "name": "stderr",
     "output_type": "stream",
     "text": [
      "No handles with labels found to put in legend.\n"
     ]
    },
    {
     "name": "stdout",
     "output_type": "stream",
     "text": [
      "epoch:18 | 0.116 - 0.771\n",
      "epoch:19 | 0.117 - 0.792\n",
      "============== 15/16 ==============\n",
      "epoch:0 | 0.097 - 0.097\n",
      "epoch:1 | 0.116 - 0.337\n",
      "epoch:2 | 0.116 - 0.38\n",
      "epoch:3 | 0.116 - 0.407\n",
      "epoch:4 | 0.116 - 0.414\n",
      "epoch:5 | 0.116 - 0.407\n",
      "epoch:6 | 0.116 - 0.41\n",
      "epoch:7 | 0.116 - 0.417\n",
      "epoch:8 | 0.116 - 0.413\n",
      "epoch:9 | 0.116 - 0.412\n",
      "epoch:10 | 0.116 - 0.416\n",
      "epoch:11 | 0.116 - 0.425\n",
      "epoch:12 | 0.116 - 0.423\n",
      "epoch:13 | 0.116 - 0.431\n",
      "epoch:14 | 0.116 - 0.433\n",
      "epoch:15 | 0.116 - 0.432\n",
      "epoch:16 | 0.116 - 0.43\n",
      "epoch:17 | 0.116 - 0.428\n",
      "epoch:18 | 0.116 - 0.426\n"
     ]
    },
    {
     "name": "stderr",
     "output_type": "stream",
     "text": [
      "No handles with labels found to put in legend.\n"
     ]
    },
    {
     "name": "stdout",
     "output_type": "stream",
     "text": [
      "epoch:19 | 0.116 - 0.43\n",
      "============== 16/16 ==============\n",
      "epoch:0 | 0.099 - 0.115\n",
      "epoch:1 | 0.117 - 0.32\n",
      "epoch:2 | 0.117 - 0.391\n",
      "epoch:3 | 0.117 - 0.385\n",
      "epoch:4 | 0.117 - 0.404\n",
      "epoch:5 | 0.117 - 0.403\n",
      "epoch:6 | 0.117 - 0.425\n",
      "epoch:7 | 0.117 - 0.414\n",
      "epoch:8 | 0.117 - 0.422\n",
      "epoch:9 | 0.117 - 0.425\n",
      "epoch:10 | 0.117 - 0.413\n",
      "epoch:11 | 0.117 - 0.496\n",
      "epoch:12 | 0.117 - 0.509\n",
      "epoch:13 | 0.117 - 0.509\n",
      "epoch:14 | 0.117 - 0.513\n",
      "epoch:15 | 0.117 - 0.517\n",
      "epoch:16 | 0.117 - 0.523\n",
      "epoch:17 | 0.117 - 0.515\n",
      "epoch:18 | 0.117 - 0.521\n",
      "epoch:19 | 0.117 - 0.523\n"
     ]
    },
    {
     "data": {
      "image/png": "[encoded data removed]",
      "text/plain": [
       "<Figure size 432x288 with 16 Axes>"
      ]
     },
     "metadata": {
      "needs_background": "light"
     },
     "output_type": "display_data"
    }
   ],
   "source": [
    "# ch06/batch_norm_test.py\n",
    "import sys, os\n",
    "sys.path.append(os.pardir)  # 为了导入父目录的文件而进行的设定\n",
    "import numpy as np\n",
    "import matplotlib.pyplot as plt\n",
    "from dataset.mnist import load_mnist\n",
    "from common.multi_layer_net_extend import MultiLayerNetExtend\n",
    "from common.optimizer import SGD, Adam\n",
    "\n",
    "(x_train, t_train), (x_test, t_test) = load_mnist(normalize=True)\n",
    "\n",
    "# 减少学习数据\n",
    "x_train = x_train[:1000]\n",
    "t_train = t_train[:1000]\n",
    "\n",
    "max_epochs = 20\n",
    "train_size = x_train.shape[0]\n",
    "batch_size = 100\n",
    "learning_rate = 0.01\n",
    "\n",
    "\n",
    "def __train(weight_init_std):\n",
    "    bn_network = MultiLayerNetExtend(input_size=784, hidden_size_list=[100, 100, 100, 100, 100], output_size=10, \n",
    "                                    weight_init_std=weight_init_std, use_batchnorm=True)\n",
    "    network = MultiLayerNetExtend(input_size=784, hidden_size_list=[100, 100, 100, 100, 100], output_size=10,\n",
    "                                weight_init_std=weight_init_std)\n",
    "    optimizer = SGD(lr=learning_rate)\n",
    "    \n",
    "    train_acc_list = []\n",
    "    bn_train_acc_list = []\n",
    "    \n",
    "    iter_per_epoch = max(train_size / batch_size, 1)\n",
    "    epoch_cnt = 0\n",
    "    \n",
    "    for i in range(1000000000):\n",
    "        batch_mask = np.random.choice(train_size, batch_size)\n",
    "        x_batch = x_train[batch_mask]\n",
    "        t_batch = t_train[batch_mask]\n",
    "    \n",
    "        for _network in (bn_network, network):\n",
    "            grads = _network.gradient(x_batch, t_batch)\n",
    "            optimizer.update(_network.params, grads)\n",
    "    \n",
    "        if i % iter_per_epoch == 0:\n",
    "            train_acc = network.accuracy(x_train, t_train)\n",
    "            bn_train_acc = bn_network.accuracy(x_train, t_train)\n",
    "            train_acc_list.append(train_acc)\n",
    "            bn_train_acc_list.append(bn_train_acc)\n",
    "    \n",
    "            print(\"epoch:\" + str(epoch_cnt) + \" | \" + str(train_acc) + \" - \" + str(bn_train_acc))\n",
    "    \n",
    "            epoch_cnt += 1\n",
    "            if epoch_cnt >= max_epochs:\n",
    "                break\n",
    "                \n",
    "    return train_acc_list, bn_train_acc_list\n",
    "\n",
    "\n",
    "# 3.绘制图形==========\n",
    "weight_scale_list = np.logspace(0, -4, num=16)\n",
    "x = np.arange(max_epochs)\n",
    "\n",
    "for i, w in enumerate(weight_scale_list):\n",
    "    print( \"============== \" + str(i+1) + \"/16\" + \" ==============\")\n",
    "    train_acc_list, bn_train_acc_list = __train(w)\n",
    "    \n",
    "    plt.subplot(4,4,i+1)\n",
    "    plt.title(\"W:\" + str(w))\n",
    "    if i == 15:\n",
    "        plt.plot(x, bn_train_acc_list, label='Batch Normalization', markevery=2)\n",
    "        plt.plot(x, train_acc_list, linestyle = \"--\", label='Normal(without BatchNorm)', markevery=2)\n",
    "    else:\n",
    "        plt.plot(x, bn_train_acc_list, markevery=2)\n",
    "        plt.plot(x, train_acc_list, linestyle=\"--\", markevery=2)\n",
    "\n",
    "    plt.ylim(0, 1.0)\n",
    "    if i % 4:\n",
    "        plt.yticks([])\n",
    "    else:\n",
    "        plt.ylabel(\"accuracy\")\n",
    "    if i < 12:\n",
    "        plt.xticks([])\n",
    "    else:\n",
    "        plt.xlabel(\"epochs\")\n",
    "    plt.legend(loc='lower right')\n",
    "    \n",
    "plt.show()"
   ]
  }
 ],
 "metadata": {
  "interpreter": {
   "hash": "7bebbcdb67a87c960e72e49b9762de1591139e5dbbdfaa6c9d42133d04bebfbc"
  },
  "kernelspec": {
   "display_name": "Python 3.9.7 ('base')",
   "language": "python",
   "name": "python3"
  },
  "language_info": {
   "codemirror_mode": {
    "name": "ipython",
    "version": 3
   },
   "file_extension": ".py",
   "mimetype": "text/x-python",
   "name": "python",
   "nbconvert_exporter": "python",
   "pygments_lexer": "ipython3",
   "version": "3.9.7"
  },
  "orig_nbformat": 4
 },
 "nbformat": 4,
 "nbformat_minor": 2
}
